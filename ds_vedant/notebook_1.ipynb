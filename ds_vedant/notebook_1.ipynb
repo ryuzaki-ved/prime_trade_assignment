{
 "cells": [
  {
   "cell_type": "markdown",
   "id": "c56ddff3",
   "metadata": {},
   "source": [
    "# Notebook 1 — Data preparation & EDA (Colab-ready)\n",
    "\n",
    "This notebook is a Colab-friendly wrapper. It points to the primary analysis notebook(s) in the repository and provides quick instructions to open them in Google Colab.\n",
    "\n",
    "Suggested mapping (existing files in repo):\n",
    "- `1_data_preparation_eda.ipynb` -> detailed EDA and preparation\n",
    "- `code.ipynb` -> helper code snippets (optional)\n",
    "\n",
    "How to open in Colab:\n",
    "1. Upload this repository to GitHub or ensure the files are accessible via raw URLs.\n",
    "2. In Colab: File -> Open notebook -> GitHub, then paste the repo URL and pick the notebook file (for example `1_data_preparation_eda.ipynb`).\n",
    "\n",
    "If you'd like, run the `organize_files.py` script from the repository root to copy the real notebooks into this folder as `notebook_1.ipynb` (preserves originals by default). See `../README.md` for usage.\n"
   ]
  }
 ],
 "metadata": {
  "language_info": {
   "name": "python"
  }
 },
 "nbformat": 4,
 "nbformat_minor": 5
}
