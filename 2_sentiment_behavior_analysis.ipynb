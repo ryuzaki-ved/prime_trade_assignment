{
 "cells": [
  {
   "cell_type": "markdown",
   "id": "e4ba8609",
   "metadata": {},
   "source": [
    "# Sentiment-Behavior Analysis\n",
    "\n",
    "## Table of Contents\n",
    "1. [Load Processed Data](#load)\n",
    "2. [Merge Datasets](#merge)\n",
    "3. [Correlation Analysis](#correlation)\n",
    "4. [Sentiment-Based Analysis](#sentiment)\n",
    "   - Volume Analysis\n",
    "   - Profitability Analysis\n",
    "   - Risk Analysis\n",
    "   - Direction Analysis\n",
    "5. [Statistical Testing](#testing)\n",
    "6. [Advanced Analytics](#advanced)\n",
    "   - Clustering\n",
    "   - Regression\n",
    "   - Backtesting\n",
    "7. [Key Insights Summary](#insights)\n",
    "8. [Export Results](#export)\n",
    "\n",
    "## Analysis Overview\n",
    "This notebook focuses on analyzing the relationship between market sentiment and trading behavior, using processed data from the previous notebook."
   ]
  },
  {
   "cell_type": "code",
   "execution_count": null,
   "id": "f6ae841a",
   "metadata": {},
   "outputs": [],
   "source": [
    "# Setup and imports\n",
    "import pandas as pd\n",
    "import numpy as np\n",
    "import matplotlib.pyplot as plt\n",
    "import seaborn as sns\n",
    "import plotly.express as px\n",
    "import plotly.graph_objects as go\n",
    "from sklearn.preprocessing import StandardScaler\n",
    "from sklearn.model_selection import train_test_split\n",
    "from sklearn.linear_model import LinearRegression\n",
    "from sklearn.metrics import mean_squared_error, r2_score\n",
    "from scipy import stats\n",
    "import warnings\n",
    "warnings.filterwarnings('ignore')\n",
    "\n",
    "# Visualization settings\n",
    "plt.style.use('seaborn')\n",
    "sns.set_palette(\"husl\")\n",
    "\n",
    "# Define visualization constants\n",
    "PLOT_STYLE = {\n",
    "    'font_size': 12,\n",
    "    'title_size': 14,\n",
    "    'fig_size': (12, 8),\n",
    "    'colors': {\n",
    "        'primary': '#1f77b4',\n",
    "        'secondary': '#ff7f0e',\n",
    "        'positive': '#2ca02c',\n",
    "        'negative': '#d62728'\n",
    "    }\n",
    "}\n",
    "\n",
    "# Set random seed\n",
    "np.random.seed(42)"
   ]
  },
  {
   "cell_type": "markdown",
   "id": "039e508c",
   "metadata": {},
   "source": [
    "## Data Loading and Preparation\n",
    "We'll load the processed data from our previous analysis and prepare it for sentiment-behavior analysis."
   ]
  },
  {
   "cell_type": "code",
   "execution_count": null,
   "id": "0dc9f74c",
   "metadata": {},
   "outputs": [],
   "source": [
    "# Load processed data\n",
    "def load_processed_data(processed_data_path):\n",
    "    \"\"\"\n",
    "    Load processed data with validation\n",
    "    \"\"\"\n",
    "    try:\n",
    "        df = pd.read_csv(processed_data_path)\n",
    "        print(f\"Successfully loaded data with shape: {df.shape}\")\n",
    "        return df\n",
    "    except Exception as e:\n",
    "        print(f\"Error loading data: {str(e)}\")\n",
    "        return None\n",
    "\n",
    "# Load and merge datasets\n",
    "sentiment_data = load_processed_data('Phase 2 -feature_engineering_plots/sentiment_data_engineered.csv')\n",
    "trader_data = load_processed_data('Phase 2 -feature_engineering_plots/trader_data_engineered.csv')\n",
    "\n",
    "# Quick data overview\n",
    "print(\"\\nSentiment Data Overview:\")\n",
    "print(sentiment_data.describe())\n",
    "print(\"\\nTrader Data Overview:\")\n",
    "print(trader_data.describe())"
   ]
  }
 ],
 "metadata": {
  "language_info": {
   "name": "python"
  }
 },
 "nbformat": 4,
 "nbformat_minor": 5
}
